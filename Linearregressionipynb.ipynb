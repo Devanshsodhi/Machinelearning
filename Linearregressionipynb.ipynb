{
  "nbformat": 4,
  "nbformat_minor": 0,
  "metadata": {
    "colab": {
      "provenance": [],
      "mount_file_id": "1_R8zzc6S94VQgSDw_uYlTyluhCLeY57O",
      "authorship_tag": "ABX9TyNRZSRbpqg6YRTveZVTie2P",
      "include_colab_link": true
    },
    "kernelspec": {
      "name": "python3",
      "display_name": "Python 3"
    },
    "language_info": {
      "name": "python"
    }
  },
  "cells": [
    {
      "cell_type": "markdown",
      "metadata": {
        "id": "view-in-github",
        "colab_type": "text"
      },
      "source": [
        "<a href=\"https://colab.research.google.com/github/Devanshsodhi/Machinelearning/blob/main/Linearregressionipynb.ipynb\" target=\"_parent\"><img src=\"https://colab.research.google.com/assets/colab-badge.svg\" alt=\"Open In Colab\"/></a>"
      ]
    },
    {
      "cell_type": "code",
      "execution_count": null,
      "metadata": {
        "id": "mZL-L8JRu9GZ"
      },
      "outputs": [],
      "source": [
        "import pandas as pd"
      ]
    },
    {
      "cell_type": "code",
      "source": [
        "data = pd.read_csv(\"/content/drive/MyDrive/data/Advertising.csv\")"
      ],
      "metadata": {
        "id": "JE571TRew6qx"
      },
      "execution_count": null,
      "outputs": []
    },
    {
      "cell_type": "code",
      "source": [
        "X = data[[\"TV\"]]\n",
        "Y = data[\"Sales\"]\n",
        "df = pd.concat([X,Y],axis = 1)"
      ],
      "metadata": {
        "id": "DwJSxWofxvb-"
      },
      "execution_count": null,
      "outputs": []
    },
    {
      "cell_type": "code",
      "source": [
        "print(df)"
      ],
      "metadata": {
        "colab": {
          "base_uri": "https://localhost:8080/"
        },
        "id": "Weq0VB8byqf3",
        "outputId": "824df528-7af7-4ef7-f891-4eb1feb25278"
      },
      "execution_count": null,
      "outputs": [
        {
          "output_type": "stream",
          "name": "stdout",
          "text": [
            "        TV  Sales\n",
            "0    230.1   22.1\n",
            "1     44.5   10.4\n",
            "2     17.2    9.3\n",
            "3    151.5   18.5\n",
            "4    180.8   12.9\n",
            "..     ...    ...\n",
            "195   38.2    7.6\n",
            "196   94.2    9.7\n",
            "197  177.0   12.8\n",
            "198  283.6   25.5\n",
            "199  232.1   13.4\n",
            "\n",
            "[200 rows x 2 columns]\n"
          ]
        }
      ]
    },
    {
      "cell_type": "code",
      "source": [
        "import statsmodels.api as sm"
      ],
      "metadata": {
        "id": "1rXVb0jNys2O"
      },
      "execution_count": null,
      "outputs": []
    },
    {
      "cell_type": "code",
      "source": [
        "#fit will perform hypothesis , calc cost , gradien descent ; fit basically trains linear regression model\n",
        "model = sm.OLS(Y, X)\n",
        "result = model.fit()\n",
        "#OLS ordinary least square"
      ],
      "metadata": {
        "id": "NmSv3QfR21FM"
      },
      "execution_count": null,
      "outputs": []
    },
    {
      "cell_type": "code",
      "source": [
        "print(result.summary())"
      ],
      "metadata": {
        "colab": {
          "base_uri": "https://localhost:8080/"
        },
        "id": "DMBrCtFr3vQ7",
        "outputId": "bce152c8-5f64-4147-f317-3a3cfc61b146"
      },
      "execution_count": null,
      "outputs": [
        {
          "output_type": "stream",
          "name": "stdout",
          "text": [
            "                                 OLS Regression Results                                \n",
            "=======================================================================================\n",
            "Dep. Variable:                  Sales   R-squared (uncentered):                   0.897\n",
            "Model:                            OLS   Adj. R-squared (uncentered):              0.896\n",
            "Method:                 Least Squares   F-statistic:                              1733.\n",
            "Date:                Tue, 18 Jun 2024   Prob (F-statistic):                   3.52e-100\n",
            "Time:                        10:25:20   Log-Likelihood:                         -597.51\n",
            "No. Observations:                 200   AIC:                                      1197.\n",
            "Df Residuals:                     199   BIC:                                      1200.\n",
            "Df Model:                           1                                                  \n",
            "Covariance Type:            nonrobust                                                  \n",
            "==============================================================================\n",
            "                 coef    std err          t      P>|t|      [0.025      0.975]\n",
            "------------------------------------------------------------------------------\n",
            "TV             0.0832      0.002     41.633      0.000       0.079       0.087\n",
            "==============================================================================\n",
            "Omnibus:                       20.228   Durbin-Watson:                   1.707\n",
            "Prob(Omnibus):                  0.000   Jarque-Bera (JB):               23.930\n",
            "Skew:                          -0.846   Prob(JB):                     6.36e-06\n",
            "Kurtosis:                       3.086   Cond. No.                         1.00\n",
            "==============================================================================\n",
            "\n",
            "Notes:\n",
            "[1] R² is computed without centering (uncentered) since the model does not contain a constant.\n",
            "[2] Standard Errors assume that the covariance matrix of the errors is correctly specified.\n"
          ]
        }
      ]
    }
  ]
}